{
 "cells": [
  {
   "cell_type": "code",
   "execution_count": 6,
   "id": "9f115d7d",
   "metadata": {
    "scrolled": true
   },
   "outputs": [],
   "source": [
    "from restore_exif import *\n",
    "import os"
   ]
  },
  {
   "cell_type": "code",
   "execution_count": 33,
   "id": "f9c0d8b4",
   "metadata": {},
   "outputs": [
    {
     "name": "stdout",
     "output_type": "stream",
     "text": [
      "photos IMG-20210712-WA0001.jpg\n"
     ]
    }
   ],
   "source": [
    "filepath = 'photos/IMG-20210527-WA0005.jpg'\n",
    "path = os.path.dirname(filepath)\n",
    "filename = os.path.basename(filepath)\n",
    "print(path, filename)"
   ]
  },
  {
   "cell_type": "code",
   "execution_count": 13,
   "id": "0be79854",
   "metadata": {},
   "outputs": [
    {
     "data": {
      "text/plain": [
       "datetime.datetime(2021, 5, 27, 0, 0)"
      ]
     },
     "execution_count": 13,
     "metadata": {},
     "output_type": "execute_result"
    }
   ],
   "source": [
    "get_datetime(filepath)"
   ]
  },
  {
   "cell_type": "code",
   "execution_count": 14,
   "id": "e0494ecf",
   "metadata": {},
   "outputs": [
    {
     "data": {
      "text/plain": [
       "'2021:05:27 00:00:00'"
      ]
     },
     "execution_count": 14,
     "metadata": {},
     "output_type": "execute_result"
    }
   ],
   "source": [
    "get_exif_datestr(filepath)"
   ]
  },
  {
   "cell_type": "code",
   "execution_count": 34,
   "id": "bc0f0568",
   "metadata": {},
   "outputs": [],
   "source": [
    "exif_dict = piexif.load(filepath)"
   ]
  },
  {
   "cell_type": "code",
   "execution_count": 35,
   "id": "e9a709d6",
   "metadata": {},
   "outputs": [
    {
     "data": {
      "text/plain": [
       "{'0th': {}, 'Exif': {}, 'GPS': {}, 'Interop': {}, '1st': {}, 'thumbnail': None}"
      ]
     },
     "execution_count": 35,
     "metadata": {},
     "output_type": "execute_result"
    }
   ],
   "source": [
    "exif_dict"
   ]
  },
  {
   "cell_type": "code",
   "execution_count": 36,
   "id": "4ce4828b",
   "metadata": {},
   "outputs": [],
   "source": [
    "exif_dict['Exif'][piexif.ExifIFD.DateTimeOriginal] = get_exif_datestr(\n",
    "                    filename)"
   ]
  },
  {
   "cell_type": "code",
   "execution_count": 37,
   "id": "b7e82c33",
   "metadata": {},
   "outputs": [],
   "source": [
    "exif_bytes = piexif.dump(exif_dict)"
   ]
  },
  {
   "cell_type": "code",
   "execution_count": 38,
   "id": "b979e1c8",
   "metadata": {},
   "outputs": [],
   "source": [
    "piexif.insert(exif_bytes, filepath)"
   ]
  },
  {
   "cell_type": "code",
   "execution_count": 39,
   "id": "06a2ef59",
   "metadata": {},
   "outputs": [],
   "source": [
    "date = get_datetime(filename)\n",
    "modTime = date.timestamp()\n",
    "os.utime(filepath, (modTime, modTime))"
   ]
  },
  {
   "cell_type": "code",
   "execution_count": 10,
   "id": "ad1eca2e",
   "metadata": {},
   "outputs": [],
   "source": [
    "from gphotospy.authorize import get_credentials"
   ]
  },
  {
   "cell_type": "code",
   "execution_count": 22,
   "id": "60d9c14f",
   "metadata": {},
   "outputs": [],
   "source": [
    "CLIENT_SECRET_FILE = 'client_secret_687736770496-taigepml0k8efbivikkegl0vscink3rt.apps.googleusercontent.com.json'"
   ]
  },
  {
   "cell_type": "code",
   "execution_count": 31,
   "id": "ba5a7985",
   "metadata": {},
   "outputs": [
    {
     "ename": "AttributeError",
     "evalue": "partially initialized module 'charset_normalizer' has no attribute 'md__mypyc' (most likely due to a circular import)",
     "output_type": "error",
     "traceback": [
      "\u001b[1;31m---------------------------------------------------------------------------\u001b[0m",
      "\u001b[1;31mAttributeError\u001b[0m                            Traceback (most recent call last)",
      "Cell \u001b[1;32mIn[31], line 1\u001b[0m\n\u001b[1;32m----> 1\u001b[0m \u001b[38;5;28;01mfrom\u001b[39;00m \u001b[38;5;21;01mgphotospy\u001b[39;00m\u001b[38;5;21;01m.\u001b[39;00m\u001b[38;5;21;01mupload\u001b[39;00m \u001b[38;5;28;01mimport\u001b[39;00m upload\n",
      "File \u001b[1;32m~\\miniconda3\\envs\\google_photos\\Lib\\site-packages\\gphotospy\\upload.py:2\u001b[0m\n\u001b[0;32m      1\u001b[0m \u001b[38;5;28;01mimport\u001b[39;00m \u001b[38;5;21;01mos\u001b[39;00m\n\u001b[1;32m----> 2\u001b[0m \u001b[38;5;28;01mimport\u001b[39;00m \u001b[38;5;21;01mrequests\u001b[39;00m\n\u001b[0;32m      3\u001b[0m \u001b[38;5;28;01mimport\u001b[39;00m \u001b[38;5;21;01mmimetypes\u001b[39;00m\n\u001b[0;32m      4\u001b[0m \u001b[38;5;28;01mfrom\u001b[39;00m \u001b[38;5;21;01m.\u001b[39;00m\u001b[38;5;21;01mauthorize\u001b[39;00m \u001b[38;5;28;01mimport\u001b[39;00m get_credentials\n",
      "File \u001b[1;32m~\\miniconda3\\envs\\google_photos\\Lib\\site-packages\\requests\\__init__.py:48\u001b[0m\n\u001b[0;32m     45\u001b[0m \u001b[38;5;28;01mfrom\u001b[39;00m \u001b[38;5;21;01m.\u001b[39;00m\u001b[38;5;21;01mexceptions\u001b[39;00m \u001b[38;5;28;01mimport\u001b[39;00m RequestsDependencyWarning\n\u001b[0;32m     47\u001b[0m \u001b[38;5;28;01mtry\u001b[39;00m:\n\u001b[1;32m---> 48\u001b[0m     \u001b[38;5;28;01mfrom\u001b[39;00m \u001b[38;5;21;01mcharset_normalizer\u001b[39;00m \u001b[38;5;28;01mimport\u001b[39;00m __version__ \u001b[38;5;28;01mas\u001b[39;00m charset_normalizer_version\n\u001b[0;32m     49\u001b[0m \u001b[38;5;28;01mexcept\u001b[39;00m \u001b[38;5;167;01mImportError\u001b[39;00m:\n\u001b[0;32m     50\u001b[0m     charset_normalizer_version \u001b[38;5;241m=\u001b[39m \u001b[38;5;28;01mNone\u001b[39;00m\n",
      "File \u001b[1;32m~\\miniconda3\\envs\\google_photos\\Lib\\site-packages\\charset_normalizer\\__init__.py:23\u001b[0m\n\u001b[0;32m      1\u001b[0m \u001b[38;5;124;03m\"\"\"\u001b[39;00m\n\u001b[0;32m      2\u001b[0m \u001b[38;5;124;03mCharset-Normalizer\u001b[39;00m\n\u001b[0;32m      3\u001b[0m \u001b[38;5;124;03m~~~~~~~~~~~~~~\u001b[39;00m\n\u001b[1;32m   (...)\u001b[0m\n\u001b[0;32m     21\u001b[0m \u001b[38;5;124;03m:license: MIT, see LICENSE for more details.\u001b[39;00m\n\u001b[0;32m     22\u001b[0m \u001b[38;5;124;03m\"\"\"\u001b[39;00m\n\u001b[1;32m---> 23\u001b[0m \u001b[38;5;28;01mfrom\u001b[39;00m \u001b[38;5;21;01mcharset_normalizer\u001b[39;00m\u001b[38;5;21;01m.\u001b[39;00m\u001b[38;5;21;01mapi\u001b[39;00m \u001b[38;5;28;01mimport\u001b[39;00m from_fp, from_path, from_bytes, normalize\n\u001b[0;32m     24\u001b[0m \u001b[38;5;28;01mfrom\u001b[39;00m \u001b[38;5;21;01mcharset_normalizer\u001b[39;00m\u001b[38;5;21;01m.\u001b[39;00m\u001b[38;5;21;01mlegacy\u001b[39;00m \u001b[38;5;28;01mimport\u001b[39;00m detect\n\u001b[0;32m     25\u001b[0m \u001b[38;5;28;01mfrom\u001b[39;00m \u001b[38;5;21;01mcharset_normalizer\u001b[39;00m\u001b[38;5;21;01m.\u001b[39;00m\u001b[38;5;21;01mversion\u001b[39;00m \u001b[38;5;28;01mimport\u001b[39;00m __version__, VERSION\n",
      "File \u001b[1;32m~\\miniconda3\\envs\\google_photos\\Lib\\site-packages\\charset_normalizer\\api.py:10\u001b[0m\n\u001b[0;32m      7\u001b[0m     PathLike \u001b[38;5;241m=\u001b[39m Union[\u001b[38;5;28mstr\u001b[39m, \u001b[38;5;124m'\u001b[39m\u001b[38;5;124mos.PathLike[str]\u001b[39m\u001b[38;5;124m'\u001b[39m]  \u001b[38;5;66;03m# type: ignore\u001b[39;00m\n\u001b[0;32m      9\u001b[0m \u001b[38;5;28;01mfrom\u001b[39;00m \u001b[38;5;21;01mcharset_normalizer\u001b[39;00m\u001b[38;5;21;01m.\u001b[39;00m\u001b[38;5;21;01mconstant\u001b[39;00m \u001b[38;5;28;01mimport\u001b[39;00m TOO_SMALL_SEQUENCE, TOO_BIG_SEQUENCE, IANA_SUPPORTED\n\u001b[1;32m---> 10\u001b[0m \u001b[38;5;28;01mfrom\u001b[39;00m \u001b[38;5;21;01mcharset_normalizer\u001b[39;00m\u001b[38;5;21;01m.\u001b[39;00m\u001b[38;5;21;01mmd\u001b[39;00m \u001b[38;5;28;01mimport\u001b[39;00m mess_ratio\n\u001b[0;32m     11\u001b[0m \u001b[38;5;28;01mfrom\u001b[39;00m \u001b[38;5;21;01mcharset_normalizer\u001b[39;00m\u001b[38;5;21;01m.\u001b[39;00m\u001b[38;5;21;01mmodels\u001b[39;00m \u001b[38;5;28;01mimport\u001b[39;00m CharsetMatches, CharsetMatch\n\u001b[0;32m     12\u001b[0m \u001b[38;5;28;01mfrom\u001b[39;00m \u001b[38;5;21;01mwarnings\u001b[39;00m \u001b[38;5;28;01mimport\u001b[39;00m warn\n",
      "\u001b[1;31mAttributeError\u001b[0m: partially initialized module 'charset_normalizer' has no attribute 'md__mypyc' (most likely due to a circular import)"
     ]
    }
   ],
   "source": [
    "from gphotospy.upload import upload"
   ]
  },
  {
   "cell_type": "code",
   "execution_count": 32,
   "id": "6b0642c4",
   "metadata": {},
   "outputs": [
    {
     "ename": "NameError",
     "evalue": "name 'upload' is not defined",
     "output_type": "error",
     "traceback": [
      "\u001b[1;31m---------------------------------------------------------------------------\u001b[0m",
      "\u001b[1;31mNameError\u001b[0m                                 Traceback (most recent call last)",
      "Cell \u001b[1;32mIn[32], line 1\u001b[0m\n\u001b[1;32m----> 1\u001b[0m success \u001b[38;5;241m=\u001b[39m upload(CLIENT_SECRET_FILE, filepath)\n",
      "\u001b[1;31mNameError\u001b[0m: name 'upload' is not defined"
     ]
    }
   ],
   "source": [
    "success = upload(CLIENT_SECRET_FILE, filepath)"
   ]
  },
  {
   "cell_type": "code",
   "execution_count": 43,
   "id": "456f3226",
   "metadata": {},
   "outputs": [
    {
     "ename": "NameError",
     "evalue": "name 'token' is not defined",
     "output_type": "error",
     "traceback": [
      "\u001b[1;31m---------------------------------------------------------------------------\u001b[0m",
      "\u001b[1;31mNameError\u001b[0m                                 Traceback (most recent call last)",
      "Cell \u001b[1;32mIn[43], line 7\u001b[0m\n\u001b[0;32m      1\u001b[0m newMediaItems \u001b[38;5;241m=\u001b[39m {\n\u001b[0;32m      2\u001b[0m   \u001b[38;5;124m\"\u001b[39m\u001b[38;5;124mnewMediaItems\u001b[39m\u001b[38;5;124m\"\u001b[39m: [\n\u001b[0;32m      3\u001b[0m     {\n\u001b[0;32m      4\u001b[0m       \u001b[38;5;124m\"\u001b[39m\u001b[38;5;124mdescription\u001b[39m\u001b[38;5;124m\"\u001b[39m: \u001b[38;5;124m\"\u001b[39m\u001b[38;5;124m\"\u001b[39m,\n\u001b[0;32m      5\u001b[0m       \u001b[38;5;124m\"\u001b[39m\u001b[38;5;124msimpleMediaItem\u001b[39m\u001b[38;5;124m\"\u001b[39m: {\n\u001b[0;32m      6\u001b[0m         \u001b[38;5;124m\"\u001b[39m\u001b[38;5;124mfileName\u001b[39m\u001b[38;5;124m\"\u001b[39m: filename,\n\u001b[1;32m----> 7\u001b[0m         \u001b[38;5;124m\"\u001b[39m\u001b[38;5;124muploadToken\u001b[39m\u001b[38;5;124m\"\u001b[39m: token\n\u001b[0;32m      8\u001b[0m       }\n\u001b[0;32m      9\u001b[0m     }\n\u001b[0;32m     10\u001b[0m   ]\n\u001b[0;32m     11\u001b[0m }\n",
      "\u001b[1;31mNameError\u001b[0m: name 'token' is not defined"
     ]
    }
   ],
   "source": [
    "newMediaItems = {\n",
    "  \"newMediaItems\": [\n",
    "    {\n",
    "      \"description\": \"\",\n",
    "      \"simpleMediaItem\": {\n",
    "        \"fileName\": filename,\n",
    "        \"uploadToken\": token\n",
    "      }\n",
    "    }\n",
    "  ]\n",
    "}"
   ]
  },
  {
   "cell_type": "code",
   "execution_count": 29,
   "id": "79e0fa11",
   "metadata": {},
   "outputs": [],
   "source": [
    "import mimetypes\n",
    "upload_url = 'https://photoslibrary.googleapis.com/v1/uploads'\n",
    "CREATE_URL ='https://photoslibrary.googleapis.com/v1/mediaItems:batchCreate'"
   ]
  },
  {
   "cell_type": "code",
   "execution_count": null,
   "id": "0be21a3e",
   "metadata": {},
   "outputs": [],
   "source": [
    "header['X-Goog-Upload-Content-Type'] = mimetypes.guess_type(filepath)[0]\n",
    "f = open(filepath, 'rb').read()\n",
    "response = requests.post(upload_url, data=f, headers=header)"
   ]
  },
  {
   "cell_type": "code",
   "execution_count": 23,
   "id": "67f9b9ec",
   "metadata": {},
   "outputs": [],
   "source": [
    "service = authorize.init(CLIENT_SECRET_FILE)"
   ]
  },
  {
   "cell_type": "code",
   "execution_count": 46,
   "id": "09ecdcbc",
   "metadata": {},
   "outputs": [
    {
     "ename": "NameError",
     "evalue": "name 'credentials' is not defined",
     "output_type": "error",
     "traceback": [
      "\u001b[1;31m---------------------------------------------------------------------------\u001b[0m",
      "\u001b[1;31mNameError\u001b[0m                                 Traceback (most recent call last)",
      "Cell \u001b[1;32mIn[46], line 2\u001b[0m\n\u001b[0;32m      1\u001b[0m header \u001b[38;5;241m=\u001b[39m {\n\u001b[1;32m----> 2\u001b[0m         \u001b[38;5;124m'\u001b[39m\u001b[38;5;124mAuthorization\u001b[39m\u001b[38;5;124m'\u001b[39m: \u001b[38;5;124m\"\u001b[39m\u001b[38;5;124mBearer \u001b[39m\u001b[38;5;124m\"\u001b[39m \u001b[38;5;241m+\u001b[39m credentials\u001b[38;5;241m.\u001b[39mtoken,\n\u001b[0;32m      3\u001b[0m         \u001b[38;5;124m'\u001b[39m\u001b[38;5;124mContent-type\u001b[39m\u001b[38;5;124m'\u001b[39m: \u001b[38;5;124m'\u001b[39m\u001b[38;5;124mapplication/json\u001b[39m\u001b[38;5;124m'\u001b[39m,\n\u001b[0;32m      4\u001b[0m     }\n",
      "\u001b[1;31mNameError\u001b[0m: name 'credentials' is not defined"
     ]
    }
   ],
   "source": [
    "header = {\n",
    "        'Authorization': \"Bearer \" + credentials.token,\n",
    "        'Content-type': 'application/json',\n",
    "    }"
   ]
  },
  {
   "cell_type": "code",
   "execution_count": null,
   "id": "1d8eb515",
   "metadata": {},
   "outputs": [],
   "source": [
    "response = requests.post(create_url, json=newMediaItems, headers=header)"
   ]
  },
  {
   "cell_type": "code",
   "execution_count": null,
   "id": "b2ab53ad",
   "metadata": {},
   "outputs": [],
   "source": [
    "delete_url ='https://photoslibrary.googleapis.com/v1/albums/album-id:batchRemoveMediaItems'\n",
    "header = {\n",
    "        'Authorization': \"Bearer \" + credentials.token,\n",
    "        'Content-type': 'application/json',\n",
    "    }\n",
    "deleteItems ={\n",
    "   \"mediaItemIds\": [\n",
    "     photo['id'],\n",
    "   ]\n",
    "}\n",
    "response = requests.post(delete_url, json=deleteItems, headers=header)"
   ]
  },
  {
   "cell_type": "code",
   "execution_count": 1,
   "id": "fb80c154",
   "metadata": {},
   "outputs": [],
   "source": [
    "from main import WhatsAppMediaEditor\n",
    "from gphotospy import authorize\n",
    "import os"
   ]
  },
  {
   "cell_type": "code",
   "execution_count": 2,
   "id": "8f2b706d",
   "metadata": {},
   "outputs": [],
   "source": [
    "photos_folder = os.path.join(os.getcwd(), 'photos')\n",
    "videos_folder = os.path.join(os.getcwd(), 'videos')\n",
    "\n",
    "WhatsAppMediaEditor.clear_folders(photos_folder)\n",
    "WhatsAppMediaEditor.clear_folders(videos_folder)"
   ]
  },
  {
   "cell_type": "code",
   "execution_count": 6,
   "id": "7a8ada72",
   "metadata": {},
   "outputs": [],
   "source": [
    "editor = WhatsAppMediaEditor()"
   ]
  },
  {
   "cell_type": "code",
   "execution_count": 7,
   "id": "352a8474",
   "metadata": {
    "scrolled": true
   },
   "outputs": [],
   "source": [
    "editor.get_media_list()"
   ]
  },
  {
   "cell_type": "code",
   "execution_count": 52,
   "id": "849fce2d",
   "metadata": {},
   "outputs": [],
   "source": [
    "import copy\n",
    "copy_list = copy.deepcopy(editor.photo_list)"
   ]
  },
  {
   "cell_type": "code",
   "execution_count": 77,
   "id": "3527ee2a",
   "metadata": {},
   "outputs": [
    {
     "data": {
      "text/plain": [
       "True"
      ]
     },
     "execution_count": 77,
     "metadata": {},
     "output_type": "execute_result"
    }
   ],
   "source": [
    "copy_list[345]['filename'] == editor.photo_list[345]['filename']"
   ]
  },
  {
   "cell_type": "code",
   "execution_count": 80,
   "id": "4ea91589",
   "metadata": {},
   "outputs": [
    {
     "data": {
      "text/plain": [
       "<Response [200]>"
      ]
     },
     "execution_count": 80,
     "metadata": {},
     "output_type": "execute_result"
    }
   ],
   "source": [
    "WhatsAppMediaEditor.clear_folders(photos_folder)\n",
    "WhatsAppMediaEditor.clear_folders(videos_folder)\n",
    "editor.process_photos(10)"
   ]
  },
  {
   "cell_type": "code",
   "execution_count": 81,
   "id": "f536b423",
   "metadata": {
    "scrolled": true
   },
   "outputs": [],
   "source": [
    "while len(editor.photo_list)>0:\n",
    "    WhatsAppMediaEditor.clear_folders(photos_folder)\n",
    "    WhatsAppMediaEditor.clear_folders(videos_folder)\n",
    "    response = editor.process_photos(10)\n",
    "    if response.status_code !=200:\n",
    "        print(response)\n",
    "        break"
   ]
  },
  {
   "cell_type": "code",
   "execution_count": 92,
   "id": "ed62c12c",
   "metadata": {},
   "outputs": [
    {
     "name": "stderr",
     "output_type": "stream",
     "text": [
      "Exception ignored in: <function WhatsAppMediaEditor.__del__ at 0x000001EF6A74AF20>\n",
      "Traceback (most recent call last):\n",
      "  File \"c:\\dev\\google_photos_script\\main.py\", line 26, in __del__\n",
      "    if len(self.video_list) + len(self.photo_list) >0:\n",
      "           ^^^^^^^^^^^^^^^\n",
      "AttributeError: 'WhatsAppMediaEditor' object has no attribute 'video_list'\n"
     ]
    }
   ],
   "source": [
    "del editor"
   ]
  },
  {
   "cell_type": "code",
   "execution_count": 21,
   "id": "b59cb670",
   "metadata": {},
   "outputs": [
    {
     "data": {
      "text/plain": [
       "2250"
      ]
     },
     "execution_count": 21,
     "metadata": {},
     "output_type": "execute_result"
    }
   ],
   "source": [
    "len(editor.photo_list)"
   ]
  },
  {
   "cell_type": "code",
   "execution_count": 84,
   "id": "db562ded",
   "metadata": {},
   "outputs": [
    {
     "data": {
      "text/plain": [
       "[]"
      ]
     },
     "execution_count": 84,
     "metadata": {},
     "output_type": "execute_result"
    }
   ],
   "source": []
  },
  {
   "cell_type": "code",
   "execution_count": 78,
   "id": "256e546f",
   "metadata": {},
   "outputs": [],
   "source": [
    "editor.photo_list = editor.photo_list[-195:]"
   ]
  },
  {
   "cell_type": "code",
   "execution_count": 47,
   "id": "40840ce6",
   "metadata": {},
   "outputs": [],
   "source": [
    "editor.photo_list = editor.photo_list[10:]"
   ]
  },
  {
   "cell_type": "code",
   "execution_count": 5,
   "id": "c3663ff6",
   "metadata": {},
   "outputs": [],
   "source": [
    "import json"
   ]
  },
  {
   "cell_type": "code",
   "execution_count": 11,
   "id": "1cfb33bd",
   "metadata": {},
   "outputs": [],
   "source": [
    "json_string = json.dumps(editor.photo_list +editor.video_list)\n",
    "\n",
    "with open('whatsapp__media.txt', 'w') as file:\n",
    "    file.write(json_string)"
   ]
  },
  {
   "cell_type": "code",
   "execution_count": 12,
   "id": "3545d084",
   "metadata": {},
   "outputs": [],
   "source": [
    "with open('whatsapp__media.txt') as f:\n",
    "     whatsapp_media = json.load(f)"
   ]
  },
  {
   "cell_type": "code",
   "execution_count": 16,
   "id": "6a50704b",
   "metadata": {
    "scrolled": true
   },
   "outputs": [
    {
     "data": {
      "text/plain": [
       "list"
      ]
     },
     "execution_count": 16,
     "metadata": {},
     "output_type": "execute_result"
    }
   ],
   "source": [
    "type(whatsapp_media)"
   ]
  },
  {
   "cell_type": "code",
   "execution_count": 36,
   "id": "ddc7772c",
   "metadata": {},
   "outputs": [
    {
     "data": {
      "text/plain": [
       "{'id': 'AEg04Ks3oPL8Xp7rOsZrjiMnivDbf5lmvUFT109_6t894YQgLO9bvVzBhcD5bkqwDVV2bj7cYHFnMNxqLtYHfXBUQqhpDoGd_w',\n",
       " 'productUrl': 'https://photos.google.com/lr/photo/AEg04Ks3oPL8Xp7rOsZrjiMnivDbf5lmvUFT109_6t894YQgLO9bvVzBhcD5bkqwDVV2bj7cYHFnMNxqLtYHfXBUQqhpDoGd_w',\n",
       " 'baseUrl': 'https://lh3.googleusercontent.com/lr/AAJ1LKef7czkKVKXQpzp4MMxzN-rOtcBvJLKIo0RAJl8v0Z3x8pnzDAnKScF3eeLXo2d-MQilXHUEKeT-GbI7py0vwah0vKlT1qQ-PiZLwOrvwCvHom1oClEp39j4qr0o5hakwN2IK-RZSK2HrawiOTJh2Q8Ho5DZEKWB4NO80zlP9HlGO9CM78cHTqT2OsnFFU1gckBialqZemFVzLABGTEp_10nf-XW-frwgWlE0zzyImXH_qqRvL7c9kosSg0eKJKd1z3Ob4IvfZHfnBfUYUVWRU8ZxWIiD63Xd9O82QzTEe_WT9QWzPklkXDtdza-8TH4g-t2w8QFMMrFAka-781qs5Cw-PLlAVW35nFhQ1jM4oW4vRwp7behcPL0jN6xrmGfA2h4y9cwEhFSTlJDRihhCXIf8kA-raUhN83ja_L1_3xzMV4C1bVtaU46kBtc5wJzm8cJXfVSywnf5QE6dXMNd3jC4WVP2or_lWZRAss7W3YSQTQdNOF5kx0XBiMsa2U6e7hSt-5vAbizZpiRoYDvbvPK8KhN0IkOTs0ixXEXq7JoqMuBn0wAKAkmxWdcGFVxfHuYcEC1K2cr9OxdfLE7L_PRDPZXfEEQo9zGWeCR1gnfeJEErU6EEpxm1AJvWK7EZHdg6rEg_Akd5PQ20V54mNswOjSQ2oNGep2NKJhz3mFmRXdvrWsp7Mb6yP3TvCsTLrGAJuO1SKdBL3GIyEUU0agR8b4gDUHBzEJ2Uay3Jn788X6-pDmyq4lhP_GZkP3j2r244fB-H0WfEtGjzHsva4aAPY8UFVz0Af4eI9kHFgWcr6Xz8TAfeqGGUVs1GyOo_pSa09zBR-BCyBBO8_OGw_PBgeCi_okuLwuB6uI4JkCAbpjTD3fYC63KLSgKUNCPhgp3nFHB0hyH3jwW5ZLSO15EdQHbgWdgT7T30M-4N89cBjpNB5v7m48xQvWiFuNhBmwVxXeDoajB-jTtUqUBZewEO2GuE1baoFplw2BuLLx02og4dURtQGcNgMB1JHM7USlpZlcI7g_t9_ArahamNIlCjDoPDbD-epKIc8WSU5ulASlnUen',\n",
       " 'mimeType': 'image/jpeg',\n",
       " 'mediaMetadata': {'creationTime': '2023-09-05T05:23:54Z',\n",
       "  'width': '1200',\n",
       "  'height': '1600',\n",
       "  'photo': {}},\n",
       " 'filename': 'IMG-20210917-WA0002.jpg'}"
      ]
     },
     "execution_count": 36,
     "metadata": {},
     "output_type": "execute_result"
    }
   ],
   "source": [
    "editor.photo_list[0]"
   ]
  },
  {
   "cell_type": "code",
   "execution_count": 12,
   "id": "992df124",
   "metadata": {},
   "outputs": [],
   "source": [
    "import requests"
   ]
  },
  {
   "cell_type": "code",
   "execution_count": 14,
   "id": "1f9a890a",
   "metadata": {},
   "outputs": [],
   "source": [
    "tokens = ['CAIS+QIAJoFQim0LMOVSh6KE/sFgqgzmYzzTHty+O701iOsVdZxQFQNuZnDd6nJz9MbTg1Ku9p5pwQBLwvnSjDlJoW0YzlFspx/FAcxX4UwnU+5e+W78sLFA5qm7h445XyinGQlZAUPrV+jY3mpHMYUWeDs1oE0Negi6epZErBPHXObwQI0M94WDPTa4H+bEJQuWz/aDuNiIoAiaopHH1tFKBGKbExvUbtF4iHIWyEq9o05wdA1tnNjHOgl9IaH5sVpevKBdx5dJfitil7ibJ375PJCnNGj7cjBY0QrxKEJqn+kNnPVqE0d6UL/dbsWo5mhC28kEZAMpSA4fz91jA0J/zsVIIcwO74uGtMMAHfu54mIIj5gVmYEp7rGcp2KeY7O8O5lPbfypaKTae5pQ8J3cZVoONQomd7f+w/oJ6f3Ch+4rUTyQ1knPC4aHmnsRrrj3T66+WkclXlwgY7ZZfIdG7NcnMje8ZEBR/BIck/tGSzPJY0mVmkhdydPf4g', 'CAIS+QIAJoFQiiuOOrG79IL0PH/0glf5mRAUL2Kug8WSjgpz8S6RbT65ETRQ7UHK1G4RFRODnIGM7IrqbnuIVfkP690jC7gdCZGBb85o5FCkQ02TMIc1fUbpUFdEWg3VKEd3nlHKlwm51Pk1D5FucncdHfd3XKzIo25NSXyrx4l/S7Y0eKT4jQ6SfoUjMyxuxwnY8b2EBDpIsKg4E78j7hcfNIMDdMGC36ochKN2Z7Bon6tuIkBiIOL7rRGJ9n0fP8X94CFVax6pQnYE0rR38M9AOg2BiBRRCv4hd0FhgIJRJYUy477N9GmhxxYdh6rGCQLUqSiUHCFluvBeucth+La9qnTHZleDJlDcAxIEEDmJP6LQg1MWDWiEp1Z8eWf+jBc5g/bQRarezx0UjsqJvPQYjvle6U//lTUsk5TZDjxiEDSITVk50Zro2Yq0ojxdOwlFGx15JY+1BVjGKjjUucSvXfs8bse6aEAUfkwGBjEy3Y/ohXrTcq8kZjBakQ', 'CAIS+QIAJoFQiuCmCNaFU3fv4B1eRru9UdlwghzIYtACT6AiCMY5CwHIntGWa6YSTkA5ELAvg/s67dd+DptDNQH0TK4tnQHUASO0kJlN/HyaIm7QhAPDPkDOp4e2oXPMGx71Dr0oBsNnedrwg0kZzU7q06xOzwE4dz0BMXaGuhLXOjju3cXcr3jJdSJwsWSOLZYjzy3WNrirFQyolBGtIkzecOWGLiLvRcjNoa/hppOr0rhKskj/3vYn9DWa2FDMsgbVtucF95GkdNe9lxey30p/XLIPQFYJ3ZMqHUQ5P0YFueXq0z5I4RuMl53egpZz1qkkomyKohN4soIaHK8LUCfIK17VME9kL4k8Rm5HAcEEtJ9e6MdQxi4kyZk0Ovd+oUbmM7Z1Zk3jX45Y/fhCkOG05xkNTVHH7h0pAVsS1lAhF7ZNX/AMKXf4MqXrNIpSUe6TrlXek/Rt9eEoIZApJZufhJ8aViL4W8s/YHHFk1nCge2vTNaSNPD3wd9Vlw', 'CAIS+QIAJoFQirt8vo3h5nXhb4HAziQhC2SqUQ13qmSVVoRxBkCzhN7uLNissWBDTjxWzysKAQvBg6YtmsurOY2YeGJ/RAqOfXJ2qBbLv1aTBN4EuLzniM5yQ3r47RHK+e4biewV+nV87AV1jG1TB4rAnSvY+lyjPX1ESxP/vgaOqpqUiCnAk6EAROt3r3NSSyV8KWXgPdaLj5uezbUH7CwfqL0vqCRsS0IADlINpdYLBuk8TP8+woX/tCgtvyRNVSK9M0VlzFAAVS+2sz2j6f394YouRp0xXTAUnjbF6UskVuCReU/tpMZIpxjqphku0g9CIlP4F66c6KZiSxUIsY4f339FFzMeHgAn8BaEvVlTa2la/jmHuWRnJITaAJio9SJvV879nSDpH9nDJj44u4ZFIRuR2ZOng2zKZYAYzysVGv37XfIiUS8QBMdqtMw2qkilzmFaAWnl2jDJ+APMYAPHOYcn937yfuNUr0Df8f9fRnlCogEE+iD4z9h/IA', 'CAIS+QIAJoFQihOS/tGTpkD7NtSLSoLMe45JOeo2jRX5Pi0crSGsFtCKV2WlCzlahvoeNhiacW2vl/sHG+i3tMHQfiWPwT5B5EcJ4YwzTHfWI81KeanxW+1V2LDcS3ML6KLimV/6gm6BKFyI61KUJ0u5vrZ2cjSvhYW40dfFOUGehucaXy1/xSoBnH0iFf9IqGf5V8wU01uo7v+c3sC7XsMh6q0O9EUIq/Z12gfIdVQmv6F5b8gk1gpIESwDKC6XS4E1Vg5McF6C5oWxCXKmo52rCE3pwv9ATkB0nssNwnpXQYrXrTOtbdMev0trjBECbRMfUitbH6RsgxNwVG4GSYSmSE9rcXpJZtPM9GttZ8JHdtQVDI3YBEhEQyXz7ylmDAKb+qDOGxMMI0Dma76VrBaM48VkY3wXnXQXnNG+502GSwHGnzzlPZV2HKim3mkxCut8Nrk9gXzfnBbqFgax8cUDcXPirxtwgz0J4gWoLbbskWHn4d7Pj3ly28t5Dw', 'CAIS+QIAJoFQiiZ/CBtGCEC/7kERJItLRTqZ7mWnqwuEQ0CAxzXxGWGzOaQVdSE1jXX6/RG9K6/xdi10ym++6KeSv5DBhCfTJdE+mM+4OxbUPVnNNUu5o0zn6t2u9kzbvRtDfR+Wo6j+jQejGWreWuSBy6d7o0CN659oV0p/a3PUnPLsx6j+a5pKNm5bzMCFAIt3Y0z3433ugnNVzDxs/DygfPC2xZl2De+pPXLsDfSMLyFmuksG2jXn/r1OytSKxED+nuYs6oTLferPK/ai+30v0LeFUqVb9pTNI+yba7ZqdV7veXhlAx3jo9ZZan35wWa+NZLCmIvNPHBpBekRuUbyf5df+xHYyZ1nNYV9QpiLQJbudSk7/w4NKjqG1pdxknj3ZQnZ/uIe9XA5nypAyoHX9PEsY69fLVe0wkAqDD9d/jnfdINXIQfweUBfKWpsPwFR69f/96kZ3HfButiFxktskeYSvB4QmiDkocYo+qsPYLLZ561vOFW6+NNdFg', 'CAIS+QIAJoFQioRE0TAN5vpwEQAVbaALT7HZAH2mDFdcKkDp8VV8iJ0oW5NGW8UcuBIxFvx+eAGlqsbalZADOMLSjURbx7P4okJsvDEVNGhFO9gk5TXDFtkLlNiAcUHqDWCRlB7z3hOZ9618K82zSWyXTHvOXJYOBlxmsCXPyXWv7jG67toElMvp23iYcSNZ7fRloGuUwjwvnTWBd4eZwlIVMvLQJRNovO+vkbrKtziC3WIu2tXYAfwzHkZMORYafusD6+O2C1IJRhD3v2nOfg0k0ygq68KSZdo3zPOp+fi51w2xhdDyTzySfiVrEMbu5JNaSHTGw3ZYgRPTU15cPr24JQZ/hv+gLBftIEzDPwJHi76TRSKU2sjQY0z9JqEgwzMU/wrzDBz1vNpUWhrcPbouE/QAyrmmcmc6UqCAp+tIO61XBB/mCGAER2JGjwYGzq9Wa/WaJPpD1jrHi7fM82Sj2z5QMiiy6ZkNbNyihXyH0S1/vHt2I0sq0S1QDw', 'CAIS+QIAJoFQigdH14WJzg0FK4gZ6TWdjFI2hAw3E0p10Hx8p76k2HBKrl7+CaSdqGMQguPoyp56phcyMNDs2TzJY0P6eZipoN9Kjyfj5Uo1T9QiOu5TW6JgMaFo0+m31hqkUOshfnAMuFkKFxzUteK9oVQUYjUmresgfb9HnVbU/VrRTONkhx2qYazIBRY27XYVfhivFhOztEo3fxSRCz4gqzd23NHxa3ismW5JCpeDGv2lJ42HAqVNHRIc5Og9yOzX23AARcUyXXgF0jABxc/XkYl6f/7xhmfUwvi+9kVzjRUquCyjeVDU/Ztzmh69WahfdiA4NXZi0S4O60eXaPrU5l/fv7TrOYOCW7eqTnbYy37XmUYirh+HkwgdjtAJHYGMEULSOJ8koOz77ld1AG9kBGYWf8Si3e0if2F0RxrSM8qbF/8XhiVgLFlumGEgUpt0nhjbw1S11X2rle7nBymJoJNXtl3jWp58NXUg6491Eq1q2QkZSyvYxYWqUg', 'CAIS+QIAJoFQignWrhX1M9lnqn7x0lEkhrt3F7Sz+NJa1uZAMvVGKLD6HehxogvQ9ty4zIKCGei4OSta1y6Pru+ez07HqHq5GlZA6UEftRAx2gQFvdJjvSj/RGQKeIVBoNf0LLAtDcuH90c94j8hChxMFC9qhnVL1KU9IjVG9BY03kd6zT7AGhPoPKmSGdQ9GBd+eyLqA7h0SDptxqE/sAHK9ZAcv02iX35SohK9mqMOH1AOvGLULT2VBVBcOjlfHQVKF9XgIhvVnEOlgkZ+DRNaMBdEhJXcgNgFMRHMtPqCKrunOEsU0+vrTZhyqXpzs9GIzDXLc1ICH+FeHtzbXgRmF05hit3KWII+AVHPwXQ00M+6PfpNv7FL3UaiHwvF/DNc/s3se6OKm9Pmpf3YyjY284L5k9qbP/uK58wbypt+iSIarbPiJtOeDPrWtixT7uI1uuUUIbuWBENFJeHRW5waBiEkzcFnAl4mUBF/xFZeZSNZ1ircXJ5cBOOPVA', 'CAIS+QIAJoFQiiS3mxzkKx7c8Ep/extkbeHaiU9jA7+9s3pdJfCLwgSjS1gv8hAsbWDCYZ7igEBKnWuVpHkANMdL6lNiu7B3vfHPRpEsZebqKvz33cloEEXVrsgqMw5Xy4gbNFFFWbTNotTzxQpmtEtjGFJiD6c5Hs47uBDItnxg7MNLP8W30MK7iMfyY//vRPtRa2PqxG7EGGgSLsB8ch1a7EiLEpygSckKYf17Vj86tJX5XWLyF2BOFMulL4AyC8IQpjp4S/2foufhCgnWCPvV+tEC1B6UlM8vDtuP9RojperVPPm0K9DkRt4fdgCZimf42StlnEMOJ6l76d8KWrfR3/OOr1eUGl1US2C2cmgxNs9t6sdl3Elmcdv1KmbpM2tYiZnHUegFCSkBFNGXfy/q1vRM/q2FEHzU7WkPJiRqPTXnuxv1Tcz2UI+EuV3ijf9BO716TQyP31klD1xjuMts1EbFgZ1h9rJrbGcyF/ty6HVG5wTd8PeeRBIpug']"
   ]
  },
  {
   "cell_type": "code",
   "execution_count": 36,
   "id": "6d09ceae",
   "metadata": {},
   "outputs": [],
   "source": [
    "CREATE_URL ='https://photoslibrary.googleapis.com/v1/mediaItems:batchCreate'"
   ]
  },
  {
   "cell_type": "code",
   "execution_count": 20,
   "id": "e7a09483",
   "metadata": {
    "scrolled": true
   },
   "outputs": [
    {
     "data": {
      "text/plain": [
       "['IMG-20200218-WA0000.jpg',\n",
       " 'IMG-20200531-WA0002.jpg',\n",
       " 'IMG-20210404-WA0009.jpg',\n",
       " 'IMG-20211225-WA0002.jpg',\n",
       " 'IMG-20220107-WA0002.jpg',\n",
       " 'IMG-20220125-WA0000.jpg',\n",
       " 'IMG-20220428-WA0005.jpg',\n",
       " 'IMG-20220623-WA0000.jpg',\n",
       " 'IMG-20220829-WA0010.jpg',\n",
       " 'IMG-20230727-WA0000.jpg']"
      ]
     },
     "execution_count": 20,
     "metadata": {},
     "output_type": "execute_result"
    }
   ],
   "source": [
    "media_list = os.listdir('photos')\n",
    "media_list"
   ]
  },
  {
   "cell_type": "code",
   "execution_count": 25,
   "id": "85be4fe9",
   "metadata": {},
   "outputs": [],
   "source": [
    "#credentials = authorize.get_credentials(os.path.join('..',CLIENT_SECRET_FILE))\n",
    "credentials = authorize.get_credentials(CLIENT_SECRET_FILE)"
   ]
  },
  {
   "cell_type": "code",
   "execution_count": 26,
   "id": "16e59364",
   "metadata": {},
   "outputs": [],
   "source": [
    "mediaItems =[]\n",
    "for i, token in enumerate(tokens):\n",
    "    if token == 'Error':\n",
    "        continue\n",
    "    media_item = {\n",
    "                      \"description\": \"\",\n",
    "                      \"simpleMediaItem\": {\n",
    "                        \"fileName\": media_list[i],\n",
    "                        \"uploadToken\": token\n",
    "                      }\n",
    "                    }\n",
    "    mediaItems.append(media_item)\n",
    "\n",
    "newMediaItems = {\n",
    "                  \"newMediaItems\": mediaItems\n",
    "                }\n",
    "header = {\n",
    "'Authorization': \"Bearer \" + credentials.token,\n",
    "'Content-type': 'application/json',\n",
    "}"
   ]
  },
  {
   "cell_type": "code",
   "execution_count": 30,
   "id": "47dc832a",
   "metadata": {},
   "outputs": [
    {
     "name": "stdout",
     "output_type": "stream",
     "text": [
      "<Response [200]>\n"
     ]
    }
   ],
   "source": [
    "response = requests.post(CREATE_URL, json=newMediaItems, headers=header)\n",
    "print(response)"
   ]
  },
  {
   "cell_type": "code",
   "execution_count": 8,
   "id": "64dfaea6",
   "metadata": {},
   "outputs": [],
   "source": [
    "editor.photo_list = editor.photo_list[10:]"
   ]
  },
  {
   "cell_type": "code",
   "execution_count": 66,
   "id": "2dce7fd9",
   "metadata": {},
   "outputs": [],
   "source": [
    "os.chdir('..')"
   ]
  },
  {
   "cell_type": "code",
   "execution_count": 79,
   "id": "da81994b",
   "metadata": {},
   "outputs": [
    {
     "data": {
      "text/plain": [
       "'c:\\\\dev\\\\google_photos_script'"
      ]
     },
     "execution_count": 79,
     "metadata": {},
     "output_type": "execute_result"
    }
   ],
   "source": [
    "os.getcwd()"
   ]
  },
  {
   "cell_type": "code",
   "execution_count": 10,
   "id": "792932e5",
   "metadata": {},
   "outputs": [
    {
     "ename": "NameError",
     "evalue": "name 'response' is not defined",
     "output_type": "error",
     "traceback": [
      "\u001b[1;31m---------------------------------------------------------------------------\u001b[0m",
      "\u001b[1;31mNameError\u001b[0m                                 Traceback (most recent call last)",
      "Cell \u001b[1;32mIn[10], line 1\u001b[0m\n\u001b[1;32m----> 1\u001b[0m \u001b[38;5;28mtype\u001b[39m(response)\n",
      "\u001b[1;31mNameError\u001b[0m: name 'response' is not defined"
     ]
    }
   ],
   "source": [
    "type(response)"
   ]
  },
  {
   "cell_type": "code",
   "execution_count": 31,
   "id": "61300061",
   "metadata": {},
   "outputs": [
    {
     "data": {
      "text/plain": [
       "requests.models.Response"
      ]
     },
     "execution_count": 31,
     "metadata": {},
     "output_type": "execute_result"
    }
   ],
   "source": [
    "type(response)"
   ]
  },
  {
   "cell_type": "code",
   "execution_count": 35,
   "id": "c45f2157",
   "metadata": {},
   "outputs": [
    {
     "data": {
      "text/plain": [
       "True"
      ]
     },
     "execution_count": 35,
     "metadata": {},
     "output_type": "execute_result"
    }
   ],
   "source": [
    "response.status_code == 200"
   ]
  },
  {
   "cell_type": "code",
   "execution_count": 6,
   "id": "cd915700",
   "metadata": {},
   "outputs": [],
   "source": [
    "url = 'https://lh3.googleusercontent.com/lr/AAJ1LKc7R-TSiYfAUiTId0aw7mWPBaNHObQNxdz5VqCpmytAYD6P7sbZKZdgge41g6CNHIueKE2IiiKHnET0QGNOQU1yv8A1pAZtlNndN7JswYi3J_byZ6NxebjHyXlcZ0kTTtDmz290iQqPO1-IIPxEGi6otiU4aVY-x03UezVSqh3uZZM1jn5z73DzRx9u-aZVpVGF_Pil2to6RASU7RR-nTDuJh6J5xKUA9bkirw-wHORUPdylOTGLpAOo0IRYqjnSeHKVP8DFmIE9VgTs6dElsqvkF0HhFngUBau8697qMvSIvRgyzadY6vVxnjbodf0Bn0JQ6whJ7SjKt66do9ntgGeGG983i9uCUVYqnMaft0inU6Y-uGBfBShBJodIHWZJ5vp_4RVxgw7LUCnjLg3br5A5oNtIHTiIMSmnk_1Xjk5fq1k9hnIH31LDZwhWEf6Ru3PZPjCUa8AJwaXh43SE9oA_iDJNqz2t1Lvq74zFYZ7sVqq3Nuxyu5VJh2qCP2o-vSZF-n0a6vhKqT1d24RdfR5Fyw-RXUMMBXQEtO3FOvjBIA_VwTZzuGc9Jdat0q9bDUTMouAN8ufKdil5I7uhGIIvsyyspg0woESDQb9MNg8CP_Gddkf4xgCSfsU7JFqUOEbRc_zpP-D8tctPAV9X2hgQFBaannc1gkZ_XWll4S2cd_mbIZEO_HN-wz738j0Zpa-iHT2AcgGiUknS1QXTS0g1U236SBcYSNIDd9mJOCVq3pCWvzFBPOKV5yIHGka7AQPWx2E2CZBLFGNFi7BQPenlAA39YKAKZmaN06aVYjXHjDXvNobnZLSME5ssf6yC4kqmGQu9t8c-kwlj0X0p9hxZzd-7UBtF9-bpjwU53CtriaS8yPqHN5gMrAb1swYN8y-E7jaSSM127D1W6qg693Cw1JArin4786wxSFUCf3gX95XgmX2KoONwrhk9G7WfNoGo7gtHXn9g1KZtb5_-_XhQK2Zg2KGDBZ1v35ElUaVuf19wAuSpwMD3-3MJKtRwsOTOyl5zo7BWPJ9hnnjqASHBJ3iSTBiXrJ-jLgcAJfjt_T_ikwa'"
   ]
  },
  {
   "cell_type": "code",
   "execution_count": 10,
   "id": "8b83e4cf",
   "metadata": {},
   "outputs": [
    {
     "ename": "HTTPError",
     "evalue": "HTTP Error 403: Forbidden",
     "output_type": "error",
     "traceback": [
      "\u001b[1;31m---------------------------------------------------------------------------\u001b[0m",
      "\u001b[1;31mHTTPError\u001b[0m                                 Traceback (most recent call last)",
      "Cell \u001b[1;32mIn[10], line 2\u001b[0m\n\u001b[0;32m      1\u001b[0m \u001b[38;5;28;01mimport\u001b[39;00m \u001b[38;5;21;01murllib\u001b[39;00m\n\u001b[1;32m----> 2\u001b[0m raw_data \u001b[38;5;241m=\u001b[39m urllib\u001b[38;5;241m.\u001b[39mrequest\u001b[38;5;241m.\u001b[39murlopen(url)\u001b[38;5;241m.\u001b[39mread()\n",
      "File \u001b[1;32m~\\.conda\\envs\\google_photos_script\\Lib\\urllib\\request.py:216\u001b[0m, in \u001b[0;36murlopen\u001b[1;34m(url, data, timeout, cafile, capath, cadefault, context)\u001b[0m\n\u001b[0;32m    214\u001b[0m \u001b[38;5;28;01melse\u001b[39;00m:\n\u001b[0;32m    215\u001b[0m     opener \u001b[38;5;241m=\u001b[39m _opener\n\u001b[1;32m--> 216\u001b[0m \u001b[38;5;28;01mreturn\u001b[39;00m opener\u001b[38;5;241m.\u001b[39mopen(url, data, timeout)\n",
      "File \u001b[1;32m~\\.conda\\envs\\google_photos_script\\Lib\\urllib\\request.py:525\u001b[0m, in \u001b[0;36mOpenerDirector.open\u001b[1;34m(self, fullurl, data, timeout)\u001b[0m\n\u001b[0;32m    523\u001b[0m \u001b[38;5;28;01mfor\u001b[39;00m processor \u001b[38;5;129;01min\u001b[39;00m \u001b[38;5;28mself\u001b[39m\u001b[38;5;241m.\u001b[39mprocess_response\u001b[38;5;241m.\u001b[39mget(protocol, []):\n\u001b[0;32m    524\u001b[0m     meth \u001b[38;5;241m=\u001b[39m \u001b[38;5;28mgetattr\u001b[39m(processor, meth_name)\n\u001b[1;32m--> 525\u001b[0m     response \u001b[38;5;241m=\u001b[39m meth(req, response)\n\u001b[0;32m    527\u001b[0m \u001b[38;5;28;01mreturn\u001b[39;00m response\n",
      "File \u001b[1;32m~\\.conda\\envs\\google_photos_script\\Lib\\urllib\\request.py:634\u001b[0m, in \u001b[0;36mHTTPErrorProcessor.http_response\u001b[1;34m(self, request, response)\u001b[0m\n\u001b[0;32m    631\u001b[0m \u001b[38;5;66;03m# According to RFC 2616, \"2xx\" code indicates that the client's\u001b[39;00m\n\u001b[0;32m    632\u001b[0m \u001b[38;5;66;03m# request was successfully received, understood, and accepted.\u001b[39;00m\n\u001b[0;32m    633\u001b[0m \u001b[38;5;28;01mif\u001b[39;00m \u001b[38;5;129;01mnot\u001b[39;00m (\u001b[38;5;241m200\u001b[39m \u001b[38;5;241m<\u001b[39m\u001b[38;5;241m=\u001b[39m code \u001b[38;5;241m<\u001b[39m \u001b[38;5;241m300\u001b[39m):\n\u001b[1;32m--> 634\u001b[0m     response \u001b[38;5;241m=\u001b[39m \u001b[38;5;28mself\u001b[39m\u001b[38;5;241m.\u001b[39mparent\u001b[38;5;241m.\u001b[39merror(\n\u001b[0;32m    635\u001b[0m         \u001b[38;5;124m'\u001b[39m\u001b[38;5;124mhttp\u001b[39m\u001b[38;5;124m'\u001b[39m, request, response, code, msg, hdrs)\n\u001b[0;32m    637\u001b[0m \u001b[38;5;28;01mreturn\u001b[39;00m response\n",
      "File \u001b[1;32m~\\.conda\\envs\\google_photos_script\\Lib\\urllib\\request.py:563\u001b[0m, in \u001b[0;36mOpenerDirector.error\u001b[1;34m(self, proto, *args)\u001b[0m\n\u001b[0;32m    561\u001b[0m \u001b[38;5;28;01mif\u001b[39;00m http_err:\n\u001b[0;32m    562\u001b[0m     args \u001b[38;5;241m=\u001b[39m (\u001b[38;5;28mdict\u001b[39m, \u001b[38;5;124m'\u001b[39m\u001b[38;5;124mdefault\u001b[39m\u001b[38;5;124m'\u001b[39m, \u001b[38;5;124m'\u001b[39m\u001b[38;5;124mhttp_error_default\u001b[39m\u001b[38;5;124m'\u001b[39m) \u001b[38;5;241m+\u001b[39m orig_args\n\u001b[1;32m--> 563\u001b[0m     \u001b[38;5;28;01mreturn\u001b[39;00m \u001b[38;5;28mself\u001b[39m\u001b[38;5;241m.\u001b[39m_call_chain(\u001b[38;5;241m*\u001b[39margs)\n",
      "File \u001b[1;32m~\\.conda\\envs\\google_photos_script\\Lib\\urllib\\request.py:496\u001b[0m, in \u001b[0;36mOpenerDirector._call_chain\u001b[1;34m(self, chain, kind, meth_name, *args)\u001b[0m\n\u001b[0;32m    494\u001b[0m \u001b[38;5;28;01mfor\u001b[39;00m handler \u001b[38;5;129;01min\u001b[39;00m handlers:\n\u001b[0;32m    495\u001b[0m     func \u001b[38;5;241m=\u001b[39m \u001b[38;5;28mgetattr\u001b[39m(handler, meth_name)\n\u001b[1;32m--> 496\u001b[0m     result \u001b[38;5;241m=\u001b[39m func(\u001b[38;5;241m*\u001b[39margs)\n\u001b[0;32m    497\u001b[0m     \u001b[38;5;28;01mif\u001b[39;00m result \u001b[38;5;129;01mis\u001b[39;00m \u001b[38;5;129;01mnot\u001b[39;00m \u001b[38;5;28;01mNone\u001b[39;00m:\n\u001b[0;32m    498\u001b[0m         \u001b[38;5;28;01mreturn\u001b[39;00m result\n",
      "File \u001b[1;32m~\\.conda\\envs\\google_photos_script\\Lib\\urllib\\request.py:643\u001b[0m, in \u001b[0;36mHTTPDefaultErrorHandler.http_error_default\u001b[1;34m(self, req, fp, code, msg, hdrs)\u001b[0m\n\u001b[0;32m    642\u001b[0m \u001b[38;5;28;01mdef\u001b[39;00m \u001b[38;5;21mhttp_error_default\u001b[39m(\u001b[38;5;28mself\u001b[39m, req, fp, code, msg, hdrs):\n\u001b[1;32m--> 643\u001b[0m     \u001b[38;5;28;01mraise\u001b[39;00m HTTPError(req\u001b[38;5;241m.\u001b[39mfull_url, code, msg, hdrs, fp)\n",
      "\u001b[1;31mHTTPError\u001b[0m: HTTP Error 403: Forbidden"
     ]
    }
   ],
   "source": [
    "import urllib\n",
    "raw_data = urllib.request.urlopen(url).read()"
   ]
  },
  {
   "cell_type": "markdown",
   "id": "1d7d1bff",
   "metadata": {},
   "source": [
    "# Find url id to delete with Selenium"
   ]
  },
  {
   "cell_type": "code",
   "execution_count": 17,
   "id": "b2166b51",
   "metadata": {},
   "outputs": [
    {
     "data": {
      "text/plain": [
       "20231007"
      ]
     },
     "execution_count": 17,
     "metadata": {},
     "output_type": "execute_result"
    }
   ],
   "source": [
    "int(editor.photo_list[0]['mediaMetadata']['creationTime'][:10].replace('-',''))\n",
    "#editor.photo_list[0]['filename']"
   ]
  },
  {
   "cell_type": "code",
   "execution_count": 23,
   "id": "c08e6d47",
   "metadata": {},
   "outputs": [],
   "source": [
    "photo_to_delete=[]\n",
    "temp={}"
   ]
  },
  {
   "cell_type": "code",
   "execution_count": 24,
   "id": "e31fe34f",
   "metadata": {},
   "outputs": [],
   "source": [
    "for photo in editor.photo_list:\n",
    "    if photo['filename'] in temp:\n",
    "        new_date = int(photo['mediaMetadata']['creationTime'][:10].replace('-',''))\n",
    "        stored_date = int(temp[photo['filename']]['mediaMetadata']['creationTime'][:10].replace('-',''))\n",
    "        if new_date < stored_date:\n",
    "            photo_to_delete.append(photo['productUrl'])\n",
    "            temp[photo['filename']]=photo\n",
    "        else:\n",
    "            photo_to_delete.append(temp[photo['filename']]['productUrl'])\n",
    "    else:\n",
    "        temp[photo['filename']] = photo\n",
    "            "
   ]
  },
  {
   "cell_type": "code",
   "execution_count": 25,
   "id": "06b80c6a",
   "metadata": {},
   "outputs": [
    {
     "data": {
      "text/plain": [
       "0"
      ]
     },
     "execution_count": 25,
     "metadata": {},
     "output_type": "execute_result"
    }
   ],
   "source": [
    "len(photo_to_delete)"
   ]
  },
  {
   "cell_type": "code",
   "execution_count": 26,
   "id": "13389427",
   "metadata": {},
   "outputs": [
    {
     "data": {
      "text/plain": [
       "2250"
      ]
     },
     "execution_count": 26,
     "metadata": {},
     "output_type": "execute_result"
    }
   ],
   "source": [
    "len(temp)"
   ]
  },
  {
   "cell_type": "code",
   "execution_count": 27,
   "id": "fae76f6f",
   "metadata": {},
   "outputs": [
    {
     "data": {
      "text/plain": [
       "202"
      ]
     },
     "execution_count": 27,
     "metadata": {},
     "output_type": "execute_result"
    }
   ],
   "source": [
    "len(editor.video_list)"
   ]
  },
  {
   "cell_type": "code",
   "execution_count": null,
   "id": "170219ed",
   "metadata": {},
   "outputs": [],
   "source": []
  }
 ],
 "metadata": {
  "kernelspec": {
   "display_name": "Python 3 (ipykernel)",
   "language": "python",
   "name": "python3"
  },
  "language_info": {
   "codemirror_mode": {
    "name": "ipython",
    "version": 3
   },
   "file_extension": ".py",
   "mimetype": "text/x-python",
   "name": "python",
   "nbconvert_exporter": "python",
   "pygments_lexer": "ipython3",
   "version": "3.11.5"
  }
 },
 "nbformat": 4,
 "nbformat_minor": 5
}
